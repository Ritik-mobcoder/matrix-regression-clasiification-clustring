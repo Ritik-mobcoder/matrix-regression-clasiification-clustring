{
 "cells": [
  {
   "cell_type": "code",
   "execution_count": 2,
   "metadata": {},
   "outputs": [],
   "source": [
    "import seaborn as sns\n",
    "from sklearn.cluster import KMeans\n",
    "from sklearn.metrics import silhouette_score\n",
    "from sklearn.metrics import adjusted_rand_score\n",
    "from sklearn.metrics import rand_score\n",
    "from sklearn.metrics import   mutual_info_score\n",
    "from sklearn.metrics import adjusted_mutual_info_score"
   ]
  },
  {
   "cell_type": "code",
   "execution_count": 3,
   "metadata": {},
   "outputs": [],
   "source": [
    "data = sns.load_dataset('iris')\n",
    "features = data[['sepal_length', 'sepal_width', 'petal_length', 'petal_width']]\n",
    "true_labels = data['species']"
   ]
  },
  {
   "cell_type": "code",
   "execution_count": 4,
   "metadata": {},
   "outputs": [],
   "source": [
    "true_labels_encoded = true_labels.astype('category').cat.codes"
   ]
  },
  {
   "cell_type": "code",
   "execution_count": 5,
   "metadata": {},
   "outputs": [],
   "source": [
    "kmeans = KMeans(n_clusters=3, random_state=42)\n",
    "predicted_labels = kmeans.fit_predict(features)\n",
    "silhouette = silhouette_score(features, predicted_labels)"
   ]
  },
  {
   "cell_type": "code",
   "execution_count": 6,
   "metadata": {},
   "outputs": [],
   "source": [
    "ari = adjusted_rand_score(true_labels_encoded, predicted_labels)\n",
    "ri = rand_score(true_labels_encoded, predicted_labels)\n",
    "mi = mutual_info_score(true_labels_encoded, predicted_labels)\n",
    "ami = adjusted_mutual_info_score(true_labels_encoded, predicted_labels)"
   ]
  },
  {
   "cell_type": "code",
   "execution_count": 7,
   "metadata": {},
   "outputs": [
    {
     "data": {
      "text/plain": [
       "{'Silhouette Score': 0.5511916046195927,\n",
       " 'Adjusted Rand Index (ARI)': 0.7163421126838476,\n",
       " 'Rand Index (RI)': 0.8737360178970918,\n",
       " 'Mutual Information (MI)': 0.8090392795466592,\n",
       " 'Adjusted Mutual Information (AMI)': 0.7386548254402864}"
      ]
     },
     "execution_count": 7,
     "metadata": {},
     "output_type": "execute_result"
    }
   ],
   "source": [
    "metrics = {\n",
    "    \"Silhouette Score\": silhouette,\n",
    "    \"Adjusted Rand Index (ARI)\": ari,\n",
    "    \"Rand Index (RI)\": ri,\n",
    "    \"Mutual Information (MI)\": mi,\n",
    "    \"Adjusted Mutual Information (AMI)\": ami,\n",
    "   \n",
    "}\n",
    "\n",
    "metrics"
   ]
  }
 ],
 "metadata": {
  "kernelspec": {
   "display_name": "myenv",
   "language": "python",
   "name": "myenv"
  },
  "language_info": {
   "codemirror_mode": {
    "name": "ipython",
    "version": 3
   },
   "file_extension": ".py",
   "mimetype": "text/x-python",
   "name": "python",
   "nbconvert_exporter": "python",
   "pygments_lexer": "ipython3",
   "version": "3.12.2"
  }
 },
 "nbformat": 4,
 "nbformat_minor": 2
}
